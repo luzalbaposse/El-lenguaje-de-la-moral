{
  "nbformat": 4,
  "nbformat_minor": 0,
  "metadata": {
    "colab": {
      "provenance": []
    },
    "kernelspec": {
      "name": "python3",
      "display_name": "Python 3"
    },
    "language_info": {
      "name": "python"
    }
  },
  "cells": [
    {
      "cell_type": "code",
      "execution_count": null,
      "metadata": {
        "id": "dRGK3KCENAl8"
      },
      "outputs": [],
      "source": [
        "# Importo todas las librerías que voy a necesitar más adelante\n",
        "import pandas as pd # Para levantar los datos del .xlsx\n",
        "import numpy as np # Para calcular valor medio, trabajar con vectores, etc.\n",
        "from scipy import stats   # Para calcular error estandard de la media y test de medias\n",
        "from statsmodels.stats import proportion  # Error estándar y test de proporciones\n",
        "import matplotlib.pyplot as plt # Para graficar"
      ]
    },
    {
      "cell_type": "code",
      "source": [
        "data = pd.read_excel(io=\"/content/2.xlsx\")\n",
        "\n",
        "print(data)"
      ],
      "metadata": {
        "colab": {
          "base_uri": "https://localhost:8080/"
        },
        "id": "AqXKgXFQNHw2",
        "outputId": "5ea09935-04be-4e7b-f36a-1c1f4904534a"
      },
      "execution_count": null,
      "outputs": [
        {
          "output_type": "stream",
          "name": "stdout",
          "text": [
            "    Participante  Idioma  Framing  respuesta\n",
            "0             P2       1        1          2\n",
            "1             P3       1        1          2\n",
            "2             P5       1        1          1\n",
            "3             P7       1        1          2\n",
            "4            P11       1        1          2\n",
            "..           ...     ...      ...        ...\n",
            "202         P183       2        2          2\n",
            "203         P185       2        2          2\n",
            "204         P190       2        2          1\n",
            "205         P194       2        2          1\n",
            "206         P207       2        2          1\n",
            "\n",
            "[207 rows x 4 columns]\n"
          ]
        }
      ]
    },
    {
      "cell_type": "code",
      "source": [
        "#Me quedo con las personas que hablan español, les toco framing positivo\n",
        "español_positivo= data[(data[\"Idioma\"]==1) & (data[\"Framing\"]==1)][\"respuesta\"]\n",
        "\n",
        "#Me quedo con las personas que hablan español, les toco framing negativo\n",
        "español_negativo= data[(data[\"Idioma\"]==1) & (data[\"Framing\"]==2)][\"respuesta\"]\n",
        "\n",
        "#Me quedo con las personas que hablan ingles, les toco framing positivo\n",
        "ingles_positivo= data[(data[\"Idioma\"]==2) & (data[\"Framing\"]==1)][\"respuesta\"]\n",
        "\n",
        "#Me quedo con las personas que hablan ingles, les toco framing negativo\n",
        "ingles_negativo= data[(data[\"Idioma\"]==2) & (data[\"Framing\"]==2)][\"respuesta\"]"
      ],
      "metadata": {
        "id": "K_WR9zpXNWtn"
      },
      "execution_count": null,
      "outputs": []
    },
    {
      "cell_type": "markdown",
      "source": [
        "Comenzamos por graficar las respuestas utilitarias"
      ],
      "metadata": {
        "id": "G80AuosmPLn0"
      }
    },
    {
      "cell_type": "code",
      "source": [
        "proportionValuesU = np.array([np.sum(español_positivo==1)/np.size(español_positivo),np.sum(español_negativo==1)/np.size(español_negativo),np.sum(ingles_positivo==1)/np.size(ingles_positivo),np.sum(ingles_negativo==1)/np.size(ingles_negativo)])\n",
        "#Sólo hicimos suma(valores) dividido el número total; un promedio hecho a mano.\n",
        "\n",
        "countTotalU = np.array([np.sum(español_positivo==1), np.sum(español_negativo==1),np.sum(ingles_positivo==1),np.sum(ingles_negativo==1)]) #lo vamos a necesitar después.\n",
        "#print(count)\n",
        "count0U = np.array([np.sum(español_positivo==1), np.sum(español_negativo==1)])\n",
        "count1U = np.array([np.sum(español_positivo==1), np.sum(ingles_positivo==1)])\n",
        "count2U = np.array([np.sum(español_positivo==1), np.sum(ingles_negativo==1)])\n",
        "count3U = np.array([np.sum(español_negativo==1), np.sum(ingles_positivo==1)])\n",
        "count4U = np.array([np.sum(español_negativo==1), np.sum(ingles_negativo==1)])\n",
        "count5U = np.array([np.sum(ingles_positivo==1), np.sum(ingles_negativo==1)])\n",
        "\n",
        "# También necesitamos la cantidad de respuestas totales que hay en cada grupo:\n",
        "\n",
        "sampleSizeTotalU = np.array([np.size(español_positivo), np.size(español_negativo), np.size(ingles_positivo),np.size(ingles_negativo)])\n",
        "#print(sampleSize)\n",
        "sampleSize0U = np.array([np.size(español_positivo), np.size(español_negativo)])\n",
        "sampleSize1U = np.array([np.size(español_positivo), np.size(ingles_positivo)])\n",
        "sampleSize2U = np.array([np.size(español_positivo), np.size(ingles_negativo)])\n",
        "sampleSize3U = np.array([np.size(español_negativo), np.size(ingles_positivo)])\n",
        "sampleSize4U = np.array([np.size(español_negativo), np.size(ingles_negativo)])\n",
        "sampleSize5U = np.array([np.size(ingles_positivo), np.size(ingles_negativo)])\n",
        "\n",
        "# Calculo el error estandar para una proporción (automático):\n",
        "sepValuesU = proportion.std_prop(proportionValuesU,sampleSizeTotalU)\n",
        "\n",
        "print(\"La proporción de respuestas afirmativas/correctas para la primera condición es:\",round(proportionValuesU[0],2),\"+-\",round(sepValuesU[0],2),\n",
        "        \"\\nPara la segunda:\",round(proportionValuesU[1],2),\"+-\",round(sepValuesU[1],2),\n",
        "        \"\\nPara la tercera:\",round(proportionValuesU[2],2),\"+-\",round(sepValuesU[1],2),\n",
        "        \"\\nPara la cuarta:\",round(proportionValuesU[3],2),\"+-\",round(sepValuesU[1],2))"
      ],
      "metadata": {
        "colab": {
          "base_uri": "https://localhost:8080/"
        },
        "id": "9uerRVR6OYJD",
        "outputId": "bd700f19-b556-42e7-d248-c6b0e7a2245f"
      },
      "execution_count": null,
      "outputs": [
        {
          "output_type": "stream",
          "name": "stdout",
          "text": [
            "La proporción de respuestas afirmativas/correctas para la primera condición es: 0.22 +- 0.06 \n",
            "Para la segunda: 0.18 +- 0.05 \n",
            "Para la tercera: 0.29 +- 0.05 \n",
            "Para la cuarta: 0.42 +- 0.05\n"
          ]
        }
      ]
    },
    {
      "cell_type": "markdown",
      "source": [
        "\"EPD\": Español Positivo Utilitario\n",
        "\n",
        "\"END\": Español Negativo Utilitario\n",
        "\n",
        "\"IPD\": Ingles Positivo Utilitario\n",
        "\n",
        "\"IND\": Ingles Negativo Utilitario"
      ],
      "metadata": {
        "id": "WqW8KVsBTHR8"
      }
    },
    {
      "cell_type": "code",
      "source": [
        "# Visualizo los datos presentados en la celda anterior\n",
        "xAxis = np.arange(4)\n",
        "fig, ax = plt.subplots(1)\n",
        "# Dado que los valores estan acotados entre 0 y 1, utilizo gráfico de barras\n",
        "plt.bar(xAxis, proportionValuesU, yerr = sepValuesU, width=0.35, color='tab:blue', align='center')\n",
        "plt.ylim([0, 1.05])\n",
        "plt.yticks(np.arange(0,1.1,0.2))\n",
        "plt.xlim(-0.4) \n",
        "plt.ylabel('Utilitariosmo')\n",
        "plt.xticks(xAxis, [\"EPU\",\"ENU\",\"IPU\",\"INU\"])\n",
        "plt.xlabel('Idioma y Framing')\n",
        "plt.tight_layout()"
      ],
      "metadata": {
        "colab": {
          "base_uri": "https://localhost:8080/",
          "height": 297
        },
        "id": "pB1RfmxhQZDZ",
        "outputId": "b8a987da-801e-46e3-876a-d616ada9e1fa"
      },
      "execution_count": null,
      "outputs": [
        {
          "output_type": "display_data",
          "data": {
            "text/plain": [
              "<Figure size 432x288 with 1 Axes>"
            ],
            "image/png": "[encoded data removed]"
          },
          "metadata": {
            "needs_background": "light"
          }
        }
      ]
    },
    {
      "cell_type": "markdown",
      "source": [
        "Tests estadisticos de todos los utilitarios en todas las condiciones"
      ],
      "metadata": {
        "id": "Rj2olgejRUXf"
      }
    },
    {
      "cell_type": "code",
      "source": [
        "## Ahora realizamos un test de proporciones entre los dos grupos, para las respuestas categóricas:\n",
        "\n",
        "# Para este test, le pasamos la cantidad del tipo de respuestas que nos interesa (afirmativas; esto lo calculamos antes)\n",
        "#y el tamaño de los datos (también lo calculamos antes).\n",
        "\n",
        "# En ambas condiciones\n",
        "stat, pval = proportion.proportions_ztest(count0U, sampleSize0U)\n",
        "print(\"Test de proporciones\\nz:\",stat, \"p:\",pval)\n",
        "print(format(pval, '.8f'))"
      ],
      "metadata": {
        "colab": {
          "base_uri": "https://localhost:8080/"
        },
        "id": "0e-ve-L5Qtc4",
        "outputId": "4f92b2fb-d01c-4a54-983c-cc1b341a585a"
      },
      "execution_count": null,
      "outputs": [
        {
          "output_type": "stream",
          "name": "stdout",
          "text": [
            "Test de proporciones\n",
            "z: 0.5383357869341407 p: 0.5903452490076961\n",
            "0.59034525\n"
          ]
        }
      ]
    },
    {
      "cell_type": "code",
      "source": [
        "## Ahora realizamos un test de proporciones entre los dos grupos, para las respuestas categóricas:\n",
        "\n",
        "# Para este test, le pasamos la cantidad del tipo de respuestas que nos interesa (afirmativas; esto lo calculamos antes)\n",
        "#y el tamaño de los datos (también lo calculamos antes).\n",
        "\n",
        "# En ambas condiciones\n",
        "stat, pval = proportion.proportions_ztest(count1U, sampleSize1U)\n",
        "print(\"Test de proporciones\\nz:\",stat, \"p:\",pval)\n",
        "print(format(pval, '.8f'))"
      ],
      "metadata": {
        "colab": {
          "base_uri": "https://localhost:8080/"
        },
        "id": "APTzfPkoQwz_",
        "outputId": "2ee16c36-184c-4e66-dff2-34cc4e717588"
      },
      "execution_count": null,
      "outputs": [
        {
          "output_type": "stream",
          "name": "stdout",
          "text": [
            "Test de proporciones\n",
            "z: -0.8965420741700652 p: 0.36996331959097883\n",
            "0.36996332\n"
          ]
        }
      ]
    },
    {
      "cell_type": "code",
      "source": [
        "## Ahora realizamos un test de proporciones entre los dos grupos, para las respuestas categóricas:\n",
        "\n",
        "# Para este test, le pasamos la cantidad del tipo de respuestas que nos interesa (afirmativas; esto lo calculamos antes)\n",
        "#y el tamaño de los datos (también lo calculamos antes).\n",
        "\n",
        "# En ambas condiciones\n",
        "stat, pval = proportion.proportions_ztest(count2U, sampleSize2U)\n",
        "print(\"Test de proporciones\\nz:\",stat, \"p:\",pval)\n",
        "print(format(pval, '.8f'))"
      ],
      "metadata": {
        "id": "c1tN2SIbnlNV",
        "outputId": "ae0fff83-7ae3-4b19-d2f8-295c4bfad96b",
        "colab": {
          "base_uri": "https://localhost:8080/"
        }
      },
      "execution_count": null,
      "outputs": [
        {
          "output_type": "stream",
          "name": "stdout",
          "text": [
            "Test de proporciones\n",
            "z: -2.2248363297588605 p: 0.026092227555195645\n",
            "0.02609223\n"
          ]
        }
      ]
    },
    {
      "cell_type": "code",
      "source": [
        "## Ahora realizamos un test de proporciones entre los dos grupos, para las respuestas categóricas:\n",
        "\n",
        "# Para este test, le pasamos la cantidad del tipo de respuestas que nos interesa (afirmativas; esto lo calculamos antes)\n",
        "#y el tamaño de los datos (también lo calculamos antes).\n",
        "\n",
        "# En ambas condiciones\n",
        "stat, pval = proportion.proportions_ztest(count3U, sampleSize3U)\n",
        "print(\"Test de proporciones\\nz:\",stat, \"p:\",pval)\n",
        "print(format(pval, '.8f'))"
      ],
      "metadata": {
        "colab": {
          "base_uri": "https://localhost:8080/"
        },
        "id": "Kr5lCh1gQw9T",
        "outputId": "77b812bd-72b0-44b4-d0a5-4d4bccf3351e"
      },
      "execution_count": null,
      "outputs": [
        {
          "output_type": "stream",
          "name": "stdout",
          "text": [
            "Test de proporciones\n",
            "z: -1.400549342771779 p: 0.1613488783157584\n",
            "0.16134888\n"
          ]
        }
      ]
    },
    {
      "cell_type": "code",
      "source": [
        "## Ahora realizamos un test de proporciones entre los dos grupos, para las respuestas categóricas:\n",
        "\n",
        "# Para este test, le pasamos la cantidad del tipo de respuestas que nos interesa (afirmativas; esto lo calculamos antes)\n",
        "#y el tamaño de los datos (también lo calculamos antes).\n",
        "\n",
        "# En ambas condiciones\n",
        "stat, pval = proportion.proportions_ztest(count4U, sampleSize4U)\n",
        "print(\"Test de proporciones\\nz:\",stat, \"p:\",pval)\n",
        "print(format(pval, '.8f'))"
      ],
      "metadata": {
        "colab": {
          "base_uri": "https://localhost:8080/"
        },
        "id": "4YoPXm8BQxF5",
        "outputId": "b56a5d14-b523-4e88-edb3-3c0db7bba205"
      },
      "execution_count": null,
      "outputs": [
        {
          "output_type": "stream",
          "name": "stdout",
          "text": [
            "Test de proporciones\n",
            "z: -2.6778879137375853 p: 0.0074088006605993574\n",
            "0.00740880\n"
          ]
        }
      ]
    },
    {
      "cell_type": "code",
      "source": [
        "## Ahora realizamos un test de proporciones entre los dos grupos, para las respuestas categóricas:\n",
        "\n",
        "# Para este test, le pasamos la cantidad del tipo de respuestas que nos interesa (afirmativas; esto lo calculamos antes)\n",
        "#y el tamaño de los datos (también lo calculamos antes).\n",
        "\n",
        "# En ambas condiciones\n",
        "stat, pval = proportion.proportions_ztest(count5U, sampleSize5U)\n",
        "print(\"Test de proporciones\\nz:\",stat, \"p:\",pval)\n",
        "print(format(pval, '.8f'))"
      ],
      "metadata": {
        "colab": {
          "base_uri": "https://localhost:8080/"
        },
        "id": "mzVGLZOMQxd3",
        "outputId": "11ed231d-f05a-4464-f3cd-580f0abdd5b6"
      },
      "execution_count": null,
      "outputs": [
        {
          "output_type": "stream",
          "name": "stdout",
          "text": [
            "Test de proporciones\n",
            "z: -1.3206498925768315 p: 0.18661812875716555\n",
            "0.18661813\n"
          ]
        }
      ]
    },
    {
      "cell_type": "markdown",
      "source": [
        "Ahora graficamos los deontologicos"
      ],
      "metadata": {
        "id": "DR_B55EeRb24"
      }
    },
    {
      "cell_type": "code",
      "source": [
        "# Para cualquier codificación vale hacerlo a mano (ojo que estamos contando respuestas AFIRMATIVAS):\n",
        "proportionValuesD = np.array([np.sum(español_positivo==2)/np.size(español_positivo),np.sum(español_negativo==2)/np.size(español_negativo),np.sum(ingles_positivo==2)/np.size(ingles_positivo),np.sum(ingles_negativo==2)/np.size(ingles_negativo)])\n",
        "#sólo hice suma(valores) dividido el número total; un promedio hecho a mano.\n",
        "\n",
        "#Si quisieran ver ustedes la suma de cuántas respuestas afirmativas hay para cada condición, pueden hacer esto (y printearlo después):\n",
        "\n",
        "countTotalD = np.array([np.sum(español_positivo==2), np.sum(español_negativo==2),np.sum(ingles_positivo==2),np.sum(ingles_negativo==2)]) #lo vamos a necesitar después.\n",
        "#print(count)\n",
        "count0D = np.array([np.sum(español_positivo==2), np.sum(español_negativo==2)])\n",
        "count1D = np.array([np.sum(español_positivo==2), np.sum(ingles_positivo==2)])\n",
        "count2D = np.array([np.sum(español_positivo==2), np.sum(ingles_negativo==2)])\n",
        "count3D = np.array([np.sum(español_negativo==2), np.sum(ingles_positivo==2)])\n",
        "count4D = np.array([np.sum(español_negativo==2), np.sum(ingles_negativo==2)])\n",
        "count5D = np.array([np.sum(ingles_positivo==2), np.sum(ingles_negativo==2)])\n",
        "\n",
        "# También necesitamos la cantidad de respuestas totales que hay en cada grupo:\n",
        "\n",
        "sampleSizeTotalD = np.array([np.size(español_positivo), np.size(español_negativo), np.size(ingles_positivo),np.size(ingles_negativo)])\n",
        "#print(sampleSize)\n",
        "sampleSize0D = np.array([np.size(español_positivo), np.size(español_negativo)])\n",
        "sampleSize1D = np.array([np.size(español_positivo), np.size(ingles_positivo)])\n",
        "sampleSize2D = np.array([np.size(español_positivo), np.size(ingles_negativo)])\n",
        "sampleSize3D = np.array([np.size(español_negativo), np.size(ingles_positivo)])\n",
        "sampleSize4D = np.array([np.size(español_negativo), np.size(ingles_negativo)])\n",
        "sampleSize5D = np.array([np.size(ingles_positivo), np.size(ingles_negativo)])\n",
        "\n",
        "# Calculo el error estandar para una proporción (automático):\n",
        "sepValuesD = proportion.std_prop(proportionValuesD,sampleSizeTotalD)\n",
        "\n",
        "print(\"La proporción de respuestas afirmativas/correctas para la primera condición es:\",round(proportionValuesD[0],2),\"+-\",round(sepValuesD[0],2),\n",
        "        \"\\nPara la segunda:\",round(proportionValuesD[1],2),\"+-\",round(sepValuesD[1],2),\n",
        "        \"\\nPara la tercera:\",round(proportionValuesD[2],2),\"+-\",round(sepValuesD[1],2),\n",
        "        \"\\nPara la cuarta:\",round(proportionValuesD[3],2),\"+-\",round(sepValuesD[1],2))"
      ],
      "metadata": {
        "colab": {
          "base_uri": "https://localhost:8080/"
        },
        "id": "_6RVJKKgRerq",
        "outputId": "8591a84f-6ed0-41ca-f19a-31ee977ba0c7"
      },
      "execution_count": null,
      "outputs": [
        {
          "output_type": "stream",
          "name": "stdout",
          "text": [
            "La proporción de respuestas afirmativas/correctas para la primera condición es: 0.78 +- 0.06 \n",
            "Para la segunda: 0.82 +- 0.05 \n",
            "Para la tercera: 0.71 +- 0.05 \n",
            "Para la cuarta: 0.58 +- 0.05\n"
          ]
        }
      ]
    },
    {
      "cell_type": "markdown",
      "source": [
        "\"EPD\": Español Positivo Deontologico\n",
        "\n",
        "\"END\": Español Negativo Deontologico\n",
        "\n",
        "\"IPD\": Ingles Positivo Deontologico\n",
        "\n",
        "\"IND\": Ingles Negativo Deontologico"
      ],
      "metadata": {
        "id": "OjU6pUaMSkH2"
      }
    },
    {
      "cell_type": "code",
      "source": [
        "# Visualizo los datos presentados en la celda anterior\n",
        "xAxis = np.arange(4)\n",
        "fig, ax = plt.subplots(1)\n",
        "# Dado que los valores estan acotados entre 0 y 1, utilizo gráfico de barras\n",
        "plt.bar(xAxis, proportionValuesD, yerr = sepValuesD, width=0.35, color='tab:blue', align='center')\n",
        "plt.ylim([0, 1.05])\n",
        "plt.yticks(np.arange(0,1.1,0.2))\n",
        "plt.xlim(-0.4) \n",
        "plt.ylabel('Deontologismo')\n",
        "plt.xticks(xAxis, [\"EPD\",\"END\",\"IPD\",\"IND\"])\n",
        "plt.xlabel('Idioma y Framing')\n",
        "plt.tight_layout()"
      ],
      "metadata": {
        "colab": {
          "base_uri": "https://localhost:8080/",
          "height": 297
        },
        "id": "P9-KX42ySYdw",
        "outputId": "205dc1d0-0219-4b01-d027-2f6a97c42f2c"
      },
      "execution_count": null,
      "outputs": [
        {
          "output_type": "display_data",
          "data": {
            "text/plain": [
              "<Figure size 432x288 with 1 Axes>"
            ],
            "image/png": "[encoded data removed]"
          },
          "metadata": {
            "needs_background": "light"
          }
        }
      ]
    },
    {
      "cell_type": "markdown",
      "source": [
        "Test Estadisticos de las respuestas deontologicas"
      ],
      "metadata": {
        "id": "M-85HjaiTS5w"
      }
    },
    {
      "cell_type": "code",
      "source": [
        "## Ahora realizamos un test de proporciones entre los dos grupos, para las respuestas categóricas:\n",
        "\n",
        "# Para este test, le pasamos la cantidad del tipo de respuestas que nos interesa (afirmativas; esto lo calculamos antes)\n",
        "#y el tamaño de los datos (también lo calculamos antes).\n",
        "\n",
        "# En ambas condiciones\n",
        "stat, pval = proportion.proportions_ztest(count0D, sampleSize0D)\n",
        "print(\"Test de proporciones\\nz:\",stat, \"p:\",pval)\n",
        "print(format(pval, '.8f'))"
      ],
      "metadata": {
        "colab": {
          "base_uri": "https://localhost:8080/"
        },
        "id": "ZcEUzWXJTX7F",
        "outputId": "06f2b868-bd0e-4331-a916-d3e6f0e67bbb"
      },
      "execution_count": null,
      "outputs": [
        {
          "output_type": "stream",
          "name": "stdout",
          "text": [
            "Test de proporciones\n",
            "z: -0.53833578693414 p: 0.5903452490076968\n",
            "0.59034525\n"
          ]
        }
      ]
    },
    {
      "cell_type": "code",
      "source": [
        "## Ahora realizamos un test de proporciones entre los dos grupos, para las respuestas categóricas:\n",
        "\n",
        "# Para este test, le pasamos la cantidad del tipo de respuestas que nos interesa (afirmativas; esto lo calculamos antes)\n",
        "#y el tamaño de los datos (también lo calculamos antes).\n",
        "\n",
        "# En ambas condiciones\n",
        "stat, pval = proportion.proportions_ztest(count1D, sampleSize1D)\n",
        "print(\"Test de proporciones\\nz:\",stat, \"p:\",pval)\n",
        "print(format(pval, '.8f'))"
      ],
      "metadata": {
        "colab": {
          "base_uri": "https://localhost:8080/"
        },
        "id": "wejAy86sTYcL",
        "outputId": "7585ac8a-83dc-4808-fbd5-c8cbfb902a3e"
      },
      "execution_count": null,
      "outputs": [
        {
          "output_type": "stream",
          "name": "stdout",
          "text": [
            "Test de proporciones\n",
            "z: 0.8965420741700647 p: 0.36996331959097917\n",
            "0.36996332\n"
          ]
        }
      ]
    },
    {
      "cell_type": "code",
      "source": [
        "## Ahora realizamos un test de proporciones entre los dos grupos, para las respuestas categóricas:\n",
        "\n",
        "# Para este test, le pasamos la cantidad del tipo de respuestas que nos interesa (afirmativas; esto lo calculamos antes)\n",
        "#y el tamaño de los datos (también lo calculamos antes).\n",
        "\n",
        "# En ambas condiciones\n",
        "stat, pval = proportion.proportions_ztest(count2D, sampleSize2D)\n",
        "print(\"Test de proporciones\\nz:\",stat, \"p:\",pval)\n",
        "print(format(pval, '.8f'))"
      ],
      "metadata": {
        "colab": {
          "base_uri": "https://localhost:8080/"
        },
        "id": "Ano3pZj3TYlG",
        "outputId": "94d2762b-1ff4-42f3-b5b1-de25fe299c54"
      },
      "execution_count": null,
      "outputs": [
        {
          "output_type": "stream",
          "name": "stdout",
          "text": [
            "Test de proporciones\n",
            "z: 2.2248363297588614 p: 0.026092227555195562\n",
            "0.02609223\n"
          ]
        }
      ]
    },
    {
      "cell_type": "code",
      "source": [
        "## Ahora realizamos un test de proporciones entre los dos grupos, para las respuestas categóricas:\n",
        "\n",
        "# Para este test, le pasamos la cantidad del tipo de respuestas que nos interesa (afirmativas; esto lo calculamos antes)\n",
        "#y el tamaño de los datos (también lo calculamos antes).\n",
        "\n",
        "# En ambas condiciones\n",
        "stat, pval = proportion.proportions_ztest(count3D, sampleSize3D)\n",
        "print(\"Test de proporciones\\nz:\",stat, \"p:\",pval)\n",
        "print(format(pval, '.8f'))"
      ],
      "metadata": {
        "colab": {
          "base_uri": "https://localhost:8080/"
        },
        "id": "JS1XXFG1TYsx",
        "outputId": "634c9f8b-93a3-4dd8-d93f-cecf731cf05c"
      },
      "execution_count": null,
      "outputs": [
        {
          "output_type": "stream",
          "name": "stdout",
          "text": [
            "Test de proporciones\n",
            "z: 1.4005493427717777 p: 0.16134887831575873\n",
            "0.16134888\n"
          ]
        }
      ]
    },
    {
      "cell_type": "code",
      "source": [
        "## Ahora realizamos un test de proporciones entre los dos grupos, para las respuestas categóricas:\n",
        "\n",
        "# Para este test, le pasamos la cantidad del tipo de respuestas que nos interesa (afirmativas; esto lo calculamos antes)\n",
        "#y el tamaño de los datos (también lo calculamos antes).\n",
        "\n",
        "# En ambas condiciones\n",
        "stat, pval = proportion.proportions_ztest(count4D, sampleSize4D)\n",
        "print(\"Test de proporciones\\nz:\",stat, \"p:\",pval)\n",
        "print(format(pval, '.8f'))"
      ],
      "metadata": {
        "colab": {
          "base_uri": "https://localhost:8080/"
        },
        "id": "QQ-DzEw7TY0V",
        "outputId": "4177c899-c0a9-4ac1-b3d9-6e8555f0e077"
      },
      "execution_count": null,
      "outputs": [
        {
          "output_type": "stream",
          "name": "stdout",
          "text": [
            "Test de proporciones\n",
            "z: 2.6778879137375853 p: 0.0074088006605993574\n",
            "0.00740880\n"
          ]
        }
      ]
    },
    {
      "cell_type": "code",
      "source": [
        "## Ahora realizamos un test de proporciones entre los dos grupos, para las respuestas categóricas:\n",
        "\n",
        "# Para este test, le pasamos la cantidad del tipo de respuestas que nos interesa (afirmativas; esto lo calculamos antes)\n",
        "#y el tamaño de los datos (también lo calculamos antes).\n",
        "\n",
        "# En ambas condiciones\n",
        "stat, pval = proportion.proportions_ztest(count5D, sampleSize5D)\n",
        "print(\"Test de proporciones\\nz:\",stat, \"p:\",pval)\n",
        "print(format(pval, '.8f'))"
      ],
      "metadata": {
        "colab": {
          "base_uri": "https://localhost:8080/"
        },
        "id": "-LnbSIv5TY6E",
        "outputId": "72590863-2f3f-4753-a2a9-1773387f07a0"
      },
      "execution_count": null,
      "outputs": [
        {
          "output_type": "stream",
          "name": "stdout",
          "text": [
            "Test de proporciones\n",
            "z: 1.3206498925768326 p: 0.1866181287571651\n",
            "0.18661813\n"
          ]
        }
      ]
    }
  ]
}